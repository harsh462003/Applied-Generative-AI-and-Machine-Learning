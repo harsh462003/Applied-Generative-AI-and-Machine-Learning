{
  "nbformat": 4,
  "nbformat_minor": 0,
  "metadata": {
    "colab": {
      "provenance": []
    },
    "kernelspec": {
      "name": "python3",
      "display_name": "Python 3"
    },
    "language_info": {
      "name": "python"
    }
  },
  "cells": [
    {
      "cell_type": "markdown",
      "source": [
        "Name:Harshith Nagaraj\n",
        "\n",
        "Reg no:251100610023\n",
        "\n",
        "Branch:CSE"
      ],
      "metadata": {
        "id": "QN_S0OfH93M4"
      }
    },
    {
      "cell_type": "markdown",
      "source": [
        "Date: 11th Aug 2025 Tuesday"
      ],
      "metadata": {
        "id": "0HJVYh49-EAN"
      }
    },
    {
      "cell_type": "markdown",
      "source": [
        "1. WAP to search for a number 9 present in the list [89, 14, 21, 34, 55, 9]"
      ],
      "metadata": {
        "id": "2Ye7ubuX-Wy_"
      }
    },
    {
      "cell_type": "code",
      "execution_count": null,
      "metadata": {
        "colab": {
          "base_uri": "https://localhost:8080/"
        },
        "id": "JN9389P09i8D",
        "outputId": "413642c1-bc52-4261-ac4c-b6966361e188"
      },
      "outputs": [
        {
          "output_type": "stream",
          "name": "stdout",
          "text": [
            "9 is present in the list.\n"
          ]
        }
      ],
      "source": [
        "# Program to search for number 9 in the list\n",
        "\n",
        "# Given list\n",
        "numbers = [89, 14, 21, 34, 55, 3, 9]#9 is added later on , not present in the question\n",
        "\n",
        "# Number to search\n",
        "target = 9\n",
        "\n",
        "# Check if target is present\n",
        "if target in numbers:\n",
        "    print(f\"{target} is present in the list.\")\n",
        "else:\n",
        "    print(f\"{target} is not present in the list.\")\n"
      ]
    },
    {
      "cell_type": "markdown",
      "source": [
        "2. Find biggest and smallest from the list"
      ],
      "metadata": {
        "id": "lQddJLrj-wnh"
      }
    },
    {
      "cell_type": "code",
      "source": [
        "# Find biggest and smallest\n",
        "numbers = [89, 14, 21, 34, 55, 3]\n",
        "print(\"Biggest number:\", max(numbers))\n",
        "print(\"Smallest number:\", min(numbers))\n"
      ],
      "metadata": {
        "colab": {
          "base_uri": "https://localhost:8080/"
        },
        "id": "7fTfxVcl-qbs",
        "outputId": "e4c888ab-9945-4c04-ac86-c63d73badf92"
      },
      "execution_count": null,
      "outputs": [
        {
          "output_type": "stream",
          "name": "stdout",
          "text": [
            "Biggest number: 89\n",
            "Smallest number: 3\n"
          ]
        }
      ]
    },
    {
      "cell_type": "markdown",
      "source": [
        "3. Filter numbers greater than 50"
      ],
      "metadata": {
        "id": "gQtHuHHG-5KM"
      }
    },
    {
      "cell_type": "code",
      "source": [
        "# Filter numbers greater than 50\n",
        "numbers = [89, 14, 21, 34, 55, 3]\n",
        "greater_than_50 = [num for num in numbers if num > 50]\n",
        "print(\"Numbers greater than 50:\", greater_than_50)\n"
      ],
      "metadata": {
        "colab": {
          "base_uri": "https://localhost:8080/"
        },
        "id": "RuIySZJe-0Ya",
        "outputId": "8579fd45-f71d-43b9-a154-89fde79543a7"
      },
      "execution_count": null,
      "outputs": [
        {
          "output_type": "stream",
          "name": "stdout",
          "text": [
            "Numbers greater than 50: [89, 55]\n"
          ]
        }
      ]
    },
    {
      "cell_type": "markdown",
      "source": [
        "4. Count number of elements in the list"
      ],
      "metadata": {
        "id": "lyg0CGqH-_mW"
      }
    },
    {
      "cell_type": "code",
      "source": [
        "# Count number of elements\n",
        "numbers = [89, 14, 21, 34, 55, 3]\n",
        "print(\"Number of elements:\", len(numbers))\n"
      ],
      "metadata": {
        "colab": {
          "base_uri": "https://localhost:8080/"
        },
        "id": "3g4wvSlP-9NV",
        "outputId": "8231eef6-6de8-4a2e-9a3d-c7489f635e44"
      },
      "execution_count": null,
      "outputs": [
        {
          "output_type": "stream",
          "name": "stdout",
          "text": [
            "Number of elements: 6\n"
          ]
        }
      ]
    },
    {
      "cell_type": "markdown",
      "source": [
        "5. Find sum and average"
      ],
      "metadata": {
        "id": "JvrEXCPF_EOc"
      }
    },
    {
      "cell_type": "code",
      "source": [
        "# Sum and average\n",
        "numbers = [89, 14, 21, 34, 55, 3]\n",
        "total = sum(numbers)\n",
        "average = total / len(numbers)\n",
        "print(\"Sum:\", total)\n",
        "print(\"Average:\", average)\n"
      ],
      "metadata": {
        "colab": {
          "base_uri": "https://localhost:8080/"
        },
        "id": "qyRXV6jR_Gmw",
        "outputId": "33e63bfd-066d-4bb8-aa8b-993d9f0156c2"
      },
      "execution_count": null,
      "outputs": [
        {
          "output_type": "stream",
          "name": "stdout",
          "text": [
            "Sum: 216\n",
            "Average: 36.0\n"
          ]
        }
      ]
    },
    {
      "cell_type": "markdown",
      "source": [
        "6. WAP to get input from the use and get the gross pay"
      ],
      "metadata": {
        "id": "cOWx8b5S_Kwq"
      }
    },
    {
      "cell_type": "code",
      "source": [
        "# Gross pay calculation\n",
        "hours = float(input(\"Enter Hours: \"))\n",
        "rate = float(input(\"Enter Rate: \"))\n",
        "pay = hours * rate\n",
        "print(\"Pay:\", pay)\n"
      ],
      "metadata": {
        "colab": {
          "base_uri": "https://localhost:8080/"
        },
        "id": "9VqilJsP_Mx7",
        "outputId": "c414b108-cbe6-45f1-aef8-dcfa3dcf73e6"
      },
      "execution_count": null,
      "outputs": [
        {
          "output_type": "stream",
          "name": "stdout",
          "text": [
            "Enter Hours: 35\n",
            "Enter Rate: 2.75\n",
            "Pay: 96.25\n"
          ]
        }
      ]
    },
    {
      "cell_type": "markdown",
      "source": [
        "7. Gross pay with overtime (computepay function)"
      ],
      "metadata": {
        "id": "ChNBtgbA_f-z"
      }
    },
    {
      "cell_type": "code",
      "source": [
        "# Gross pay with overtime\n",
        "def computepay(hours, rate):\n",
        "    if hours > 40:\n",
        "        overtime_hours = hours - 40\n",
        "        return (40 * rate) + (overtime_hours * rate * 1.5)\n",
        "    else:\n",
        "        return hours * rate\n",
        "\n",
        "hours = float(input(\"Enter Hours: \"))\n",
        "rate = float(input(\"Enter Rate: \"))\n",
        "pay = computepay(hours, rate)\n",
        "print(\"Pay:\", pay)\n"
      ],
      "metadata": {
        "colab": {
          "base_uri": "https://localhost:8080/"
        },
        "id": "CGgJo21z_lAk",
        "outputId": "0fda5b42-1f2e-47b0-a449-1265c7bd83dd"
      },
      "execution_count": null,
      "outputs": [
        {
          "output_type": "stream",
          "name": "stdout",
          "text": [
            "Enter Hours: 45\n",
            "Enter Rate: 2.75\n",
            "Pay: 130.625\n"
          ]
        }
      ]
    },
    {
      "cell_type": "markdown",
      "source": [
        "This code block uses sorted() , not asked by sir."
      ],
      "metadata": {
        "id": "qmITkVFOAH0-"
      }
    },
    {
      "cell_type": "code",
      "source": [
        "# Normal Sort using Python's built-in sorted()\n",
        "numbers = [89, 14, 21, 34, 55, 3]\n",
        "\n",
        "sorted_list = sorted(numbers)\n",
        "\n",
        "print(\"Original List:\", numbers)\n",
        "print(\"Normal Sort:\", sorted_list)\n"
      ],
      "metadata": {
        "colab": {
          "base_uri": "https://localhost:8080/"
        },
        "id": "X5iUMe0QAGqb",
        "outputId": "ad055004-da05-4314-922e-11bd60bd88ab"
      },
      "execution_count": null,
      "outputs": [
        {
          "output_type": "stream",
          "name": "stdout",
          "text": [
            "Original List: [89, 14, 21, 34, 55, 3]\n",
            "Normal Sort: [3, 14, 21, 34, 55, 89]\n"
          ]
        }
      ]
    },
    {
      "cell_type": "markdown",
      "source": [
        "8. Bubble sort"
      ],
      "metadata": {
        "id": "a_z6Cq3fATtY"
      }
    },
    {
      "cell_type": "code",
      "source": [
        "# Bubble Sort\n",
        "numbers = [89, 14, 21, 34, 55, 3]\n",
        "\n",
        "def bubble_sort(arr):\n",
        "    arr = arr.copy()\n",
        "    n = len(arr)\n",
        "    for i in range(n):\n",
        "        for j in range(0, n-i-1):\n",
        "            if arr[j] > arr[j+1]:\n",
        "                arr[j], arr[j+1] = arr[j+1], arr[j]\n",
        "    return arr\n",
        "\n",
        "print(\"Original List:\", numbers)\n",
        "print(\"Bubble Sort:\", bubble_sort(numbers))\n"
      ],
      "metadata": {
        "colab": {
          "base_uri": "https://localhost:8080/"
        },
        "id": "lvozjTqxAQgG",
        "outputId": "47759ec5-0d83-4dc1-835d-e841a68e930c"
      },
      "execution_count": null,
      "outputs": [
        {
          "output_type": "stream",
          "name": "stdout",
          "text": [
            "Original List: [89, 14, 21, 34, 55, 3]\n",
            "Bubble Sort: [3, 14, 21, 34, 55, 89]\n"
          ]
        }
      ]
    },
    {
      "cell_type": "markdown",
      "source": [
        "9. Insertion Sort"
      ],
      "metadata": {
        "id": "x7Tq_2AYAXaQ"
      }
    },
    {
      "cell_type": "code",
      "source": [
        "# Insertion Sort\n",
        "numbers = [89, 14, 21, 34, 55, 3]\n",
        "\n",
        "def insertion_sort(arr):\n",
        "    arr = arr.copy()\n",
        "    for i in range(1, len(arr)):\n",
        "        key = arr[i]\n",
        "        j = i - 1\n",
        "        while j >= 0 and key < arr[j]:\n",
        "            arr[j + 1] = arr[j]\n",
        "            j -= 1\n",
        "        arr[j + 1] = key\n",
        "    return arr\n",
        "\n",
        "print(\"Original List:\", numbers)\n",
        "print(\"Insertion Sort:\", insertion_sort(numbers))\n"
      ],
      "metadata": {
        "colab": {
          "base_uri": "https://localhost:8080/"
        },
        "id": "kO5OjAL1AZwx",
        "outputId": "3ff55c49-bd49-4754-a2d7-4ed0ab72926f"
      },
      "execution_count": null,
      "outputs": [
        {
          "output_type": "stream",
          "name": "stdout",
          "text": [
            "Original List: [89, 14, 21, 34, 55, 3]\n",
            "Insertion Sort: [3, 14, 21, 34, 55, 89]\n"
          ]
        }
      ]
    },
    {
      "cell_type": "markdown",
      "source": [
        "10. Quick Sort"
      ],
      "metadata": {
        "id": "EI-slBXQAcu_"
      }
    },
    {
      "cell_type": "code",
      "source": [
        "# Quick Sort\n",
        "numbers = [89, 14, 21, 34, 55, 3]\n",
        "\n",
        "def quick_sort(arr):\n",
        "    if len(arr) <= 1:\n",
        "        return arr\n",
        "    pivot = arr[len(arr) // 2]\n",
        "    left = [x for x in arr if x < pivot]\n",
        "    middle = [x for x in arr if x == pivot]\n",
        "    right = [x for x in arr if x > pivot]\n",
        "    return quick_sort(left) + middle + quick_sort(right)\n",
        "\n",
        "print(\"Original List:\", numbers)\n",
        "print(\"Quick Sort:\", quick_sort(numbers))\n"
      ],
      "metadata": {
        "colab": {
          "base_uri": "https://localhost:8080/"
        },
        "id": "uTbHE63gAi6d",
        "outputId": "e58f0854-54b2-4e3e-84e8-d34a4f07278d"
      },
      "execution_count": null,
      "outputs": [
        {
          "output_type": "stream",
          "name": "stdout",
          "text": [
            "Original List: [89, 14, 21, 34, 55, 3]\n",
            "Quick Sort: [3, 14, 21, 34, 55, 89]\n"
          ]
        }
      ]
    },
    {
      "cell_type": "markdown",
      "source": [
        "Sorting combined using functions"
      ],
      "metadata": {
        "id": "teutJUJYAla3"
      }
    },
    {
      "cell_type": "code",
      "source": [
        "# List to sort\n",
        "numbers = [89, 14, 21, 34, 55, 3]\n",
        "\n",
        "def bubble_sort(arr):\n",
        "    arr = arr.copy()\n",
        "    n = len(arr)\n",
        "    for i in range(n):\n",
        "        for j in range(0, n-i-1):\n",
        "            if arr[j] > arr[j+1]:\n",
        "                arr[j], arr[j+1] = arr[j+1], arr[j]\n",
        "    return arr\n",
        "\n",
        "def insertion_sort(arr):\n",
        "    arr = arr.copy()\n",
        "    for i in range(1, len(arr)):\n",
        "        key = arr[i]\n",
        "        j = i - 1\n",
        "        while j >= 0 and key < arr[j]:\n",
        "            arr[j + 1] = arr[j]\n",
        "            j -= 1\n",
        "        arr[j + 1] = key\n",
        "    return arr\n",
        "\n",
        "def quick_sort(arr):\n",
        "    if len(arr) <= 1:\n",
        "        return arr\n",
        "    pivot = arr[len(arr) // 2]\n",
        "    left = [x for x in arr if x < pivot]\n",
        "    middle = [x for x in arr if x == pivot]\n",
        "    right = [x for x in arr if x > pivot]\n",
        "    return quick_sort(left) + middle + quick_sort(right)\n",
        "\n",
        "def normal_sort(arr):\n",
        "    return sorted(arr)\n",
        "\n",
        "print(\"Original List:\", numbers)\n",
        "print(\"Bubble Sort:  \", bubble_sort(numbers))\n",
        "print(\"Insertion Sort:\", insertion_sort(numbers))\n",
        "print(\"Quick Sort:   \", quick_sort(numbers))\n",
        "print(\"Normal Sort:  \", normal_sort(numbers))\n"
      ],
      "metadata": {
        "colab": {
          "base_uri": "https://localhost:8080/"
        },
        "id": "LIKMT9WlApip",
        "outputId": "c9dcf45d-62d7-41a8-c4f2-c55e3d80e677"
      },
      "execution_count": null,
      "outputs": [
        {
          "output_type": "stream",
          "name": "stdout",
          "text": [
            "Original List: [89, 14, 21, 34, 55, 3]\n",
            "Bubble Sort:   [3, 14, 21, 34, 55, 89]\n",
            "Insertion Sort: [3, 14, 21, 34, 55, 89]\n",
            "Quick Sort:    [3, 14, 21, 34, 55, 89]\n",
            "Normal Sort:   [3, 14, 21, 34, 55, 89]\n"
          ]
        }
      ]
    },
    {
      "cell_type": "markdown",
      "source": [
        "19th August 2025\n",
        "\n",
        "Tuesday"
      ],
      "metadata": {
        "id": "be2xN1v8fINd"
      }
    },
    {
      "cell_type": "code",
      "source": [
        "import scipy\n",
        "print('Scipy:%s' % scipy.__version__)\n",
        "import numpy\n",
        "print(\"NumPy:\", numpy.__version__)\n",
        "import sklearn\n",
        "print(\"scikit-learn:\", sklearn.__version__)\n"
      ],
      "metadata": {
        "colab": {
          "base_uri": "https://localhost:8080/"
        },
        "id": "bmBPgkkQfVqp",
        "outputId": "e14ee8f5-978a-48c1-c1b9-deeee6cec859"
      },
      "execution_count": null,
      "outputs": [
        {
          "output_type": "stream",
          "name": "stdout",
          "text": [
            "Scipy:1.16.1\n",
            "NumPy: 2.0.2\n",
            "scikit-learn: 1.6.1\n"
          ]
        }
      ]
    },
    {
      "cell_type": "markdown",
      "source": [
        "using functions in python"
      ],
      "metadata": {
        "id": "fa8P7ZnJgDm_"
      }
    },
    {
      "cell_type": "code",
      "source": [
        "def add_numbers(x,y):\n",
        "  return x+y"
      ],
      "metadata": {
        "id": "f0BlzdNmf100"
      },
      "execution_count": null,
      "outputs": []
    },
    {
      "cell_type": "code",
      "source": [
        "a=15;b=1;\n",
        "add_numbers(a,b)"
      ],
      "metadata": {
        "colab": {
          "base_uri": "https://localhost:8080/"
        },
        "id": "WOWAB0uEf8Ej",
        "outputId": "b48251a4-216a-4a64-b603-48bb3a1a322f"
      },
      "execution_count": null,
      "outputs": [
        {
          "output_type": "execute_result",
          "data": {
            "text/plain": [
              "16"
            ]
          },
          "metadata": {},
          "execution_count": 4
        }
      ]
    },
    {
      "cell_type": "code",
      "source": [
        "def add_numbers(x,y,z=None):\n",
        "  if (z==None):\n",
        "    return x+y\n",
        "  else:\n",
        "    return x+y+z"
      ],
      "metadata": {
        "id": "P2T093NNgS2S"
      },
      "execution_count": null,
      "outputs": []
    },
    {
      "cell_type": "code",
      "source": [
        "print(add_numbers(30,3))"
      ],
      "metadata": {
        "colab": {
          "base_uri": "https://localhost:8080/"
        },
        "id": "w7yOb8cxgi2p",
        "outputId": "b6ebf127-d609-48b8-c154-74e02d4cb419"
      },
      "execution_count": null,
      "outputs": [
        {
          "output_type": "stream",
          "name": "stdout",
          "text": [
            "33\n"
          ]
        }
      ]
    },
    {
      "cell_type": "code",
      "source": [
        "print(add_numbers(10,20,30))"
      ],
      "metadata": {
        "colab": {
          "base_uri": "https://localhost:8080/"
        },
        "id": "vnJ1ZWL9gnzj",
        "outputId": "fecba633-6a70-43d8-9bc9-77456a7aab94"
      },
      "execution_count": null,
      "outputs": [
        {
          "output_type": "stream",
          "name": "stdout",
          "text": [
            "60\n"
          ]
        }
      ]
    },
    {
      "cell_type": "code",
      "source": [
        "def add_numbers(x,y,z=None,flag=False):\n",
        "  if(flag):\n",
        "    print('Flag is on!')\n",
        "  if(z==None):\n",
        "    return x+y\n",
        "  else:\n",
        "    return x+y+z"
      ],
      "metadata": {
        "id": "LOAYxmu4hAWf"
      },
      "execution_count": null,
      "outputs": []
    },
    {
      "cell_type": "code",
      "source": [
        "print(add_numbers(10,20,25,flag=True))"
      ],
      "metadata": {
        "colab": {
          "base_uri": "https://localhost:8080/"
        },
        "id": "p9oEa97ThYCz",
        "outputId": "62194b0d-b8bb-4628-8a37-35dde5e9d143"
      },
      "execution_count": null,
      "outputs": [
        {
          "output_type": "stream",
          "name": "stdout",
          "text": [
            "Flag is on!\n",
            "55\n"
          ]
        }
      ]
    },
    {
      "cell_type": "code",
      "source": [
        "#assign function to a variable\n",
        "a=add_numbers\n",
        "a(16,12)"
      ],
      "metadata": {
        "colab": {
          "base_uri": "https://localhost:8080/"
        },
        "id": "7Gd4WpBOhi9h",
        "outputId": "04e85007-0bf2-4428-c361-25ad9b75341f"
      },
      "execution_count": null,
      "outputs": [
        {
          "output_type": "execute_result",
          "data": {
            "text/plain": [
              "28"
            ]
          },
          "metadata": {},
          "execution_count": 13
        }
      ]
    },
    {
      "cell_type": "code",
      "source": [
        "type('h')"
      ],
      "metadata": {
        "colab": {
          "base_uri": "https://localhost:8080/"
        },
        "id": "oXNHyCNAh6a0",
        "outputId": "4e002d7b-81e9-445d-ee53-fb58bf994e98"
      },
      "execution_count": null,
      "outputs": [
        {
          "output_type": "execute_result",
          "data": {
            "text/plain": [
              "str"
            ]
          },
          "metadata": {},
          "execution_count": 14
        }
      ]
    },
    {
      "cell_type": "code",
      "source": [
        "type(None)"
      ],
      "metadata": {
        "colab": {
          "base_uri": "https://localhost:8080/"
        },
        "id": "IgVuiqdgh-PV",
        "outputId": "2c70c13c-9496-4582-9af9-29c2e9ff389c"
      },
      "execution_count": null,
      "outputs": [
        {
          "output_type": "execute_result",
          "data": {
            "text/plain": [
              "NoneType"
            ]
          },
          "metadata": {},
          "execution_count": 15
        }
      ]
    },
    {
      "cell_type": "code",
      "source": [
        "type(0)"
      ],
      "metadata": {
        "colab": {
          "base_uri": "https://localhost:8080/"
        },
        "id": "izCZcNwkiAar",
        "outputId": "3f0bec1d-f75a-4acc-c896-2da5d7ce21cc"
      },
      "execution_count": null,
      "outputs": [
        {
          "output_type": "execute_result",
          "data": {
            "text/plain": [
              "int"
            ]
          },
          "metadata": {},
          "execution_count": 16
        }
      ]
    },
    {
      "cell_type": "code",
      "source": [
        "type(\"hello\")"
      ],
      "metadata": {
        "colab": {
          "base_uri": "https://localhost:8080/"
        },
        "id": "1RNiuLxPiCes",
        "outputId": "9a7079da-8671-4fbc-fccd-6c0d27571143"
      },
      "execution_count": null,
      "outputs": [
        {
          "output_type": "execute_result",
          "data": {
            "text/plain": [
              "str"
            ]
          },
          "metadata": {},
          "execution_count": 17
        }
      ]
    },
    {
      "cell_type": "code",
      "source": [
        "type(1.2123)"
      ],
      "metadata": {
        "colab": {
          "base_uri": "https://localhost:8080/"
        },
        "id": "VxsfcSfwiGTe",
        "outputId": "35fe44b3-884c-4424-dbaf-211f2994c1b7"
      },
      "execution_count": null,
      "outputs": [
        {
          "output_type": "execute_result",
          "data": {
            "text/plain": [
              "float"
            ]
          },
          "metadata": {},
          "execution_count": 18
        }
      ]
    },
    {
      "cell_type": "code",
      "source": [
        "type(add_numbers)"
      ],
      "metadata": {
        "colab": {
          "base_uri": "https://localhost:8080/"
        },
        "id": "fYUyVBduiIRA",
        "outputId": "2d3d72bf-e827-4f39-9ff3-cc1bd0fbe224"
      },
      "execution_count": null,
      "outputs": [
        {
          "output_type": "execute_result",
          "data": {
            "text/plain": [
              "function"
            ]
          },
          "metadata": {},
          "execution_count": 19
        }
      ]
    },
    {
      "cell_type": "code",
      "source": [
        "x=(1,'a',2,'b',1.2)\n",
        "type(x)"
      ],
      "metadata": {
        "colab": {
          "base_uri": "https://localhost:8080/"
        },
        "id": "MQvVWcSriL4R",
        "outputId": "4371482a-9856-4912-d7bd-6a23209b00ea"
      },
      "execution_count": null,
      "outputs": [
        {
          "output_type": "execute_result",
          "data": {
            "text/plain": [
              "tuple"
            ]
          },
          "metadata": {},
          "execution_count": 20
        }
      ]
    },
    {
      "cell_type": "code",
      "source": [
        "# x.append(3.3)\n",
        "# print(x)\n",
        "# #it wont append"
      ],
      "metadata": {
        "id": "EqnX_LKbiUd2"
      },
      "execution_count": null,
      "outputs": []
    },
    {
      "cell_type": "code",
      "source": [
        "x=[1,'a',2,'b']\n",
        "type(x)"
      ],
      "metadata": {
        "colab": {
          "base_uri": "https://localhost:8080/"
        },
        "id": "D01ESRqhiaXn",
        "outputId": "22037ad9-2615-4fcf-9faa-949119fc1f08"
      },
      "execution_count": null,
      "outputs": [
        {
          "output_type": "execute_result",
          "data": {
            "text/plain": [
              "list"
            ]
          },
          "metadata": {},
          "execution_count": 23
        }
      ]
    },
    {
      "cell_type": "code",
      "source": [
        "x.append(3.3)\n",
        "print(x)"
      ],
      "metadata": {
        "colab": {
          "base_uri": "https://localhost:8080/"
        },
        "id": "mtZerlviil2x",
        "outputId": "02e9c48e-1f7f-4269-a78e-3942a525d971"
      },
      "execution_count": null,
      "outputs": [
        {
          "output_type": "stream",
          "name": "stdout",
          "text": [
            "[1, 'a', 2, 'b', 3.3]\n"
          ]
        }
      ]
    },
    {
      "cell_type": "code",
      "source": [
        "#loop through items in a list\n",
        "\n",
        "for item in x:\n",
        "  print(item)"
      ],
      "metadata": {
        "colab": {
          "base_uri": "https://localhost:8080/"
        },
        "id": "LS0zEoRhiqBy",
        "outputId": "7efc1917-43e1-41c0-da8f-114057edb086"
      },
      "execution_count": null,
      "outputs": [
        {
          "output_type": "stream",
          "name": "stdout",
          "text": [
            "1\n",
            "a\n",
            "2\n",
            "b\n",
            "3.3\n"
          ]
        }
      ]
    },
    {
      "cell_type": "code",
      "source": [
        "#lenght of the list\n",
        "len(x)"
      ],
      "metadata": {
        "colab": {
          "base_uri": "https://localhost:8080/"
        },
        "id": "y2flbkauizCx",
        "outputId": "ce1cf182-27a5-451f-8af2-6ca082c8c31c"
      },
      "execution_count": null,
      "outputs": [
        {
          "output_type": "execute_result",
          "data": {
            "text/plain": [
              "5"
            ]
          },
          "metadata": {},
          "execution_count": 27
        }
      ]
    },
    {
      "cell_type": "markdown",
      "source": [
        "list is mutable while tuple is not"
      ],
      "metadata": {
        "id": "1W3mfPvNi91_"
      }
    },
    {
      "cell_type": "code",
      "source": [
        "i=0\n",
        "while(i!=len(x)):\n",
        "  print(x[i])\n",
        "  i=i+1"
      ],
      "metadata": {
        "colab": {
          "base_uri": "https://localhost:8080/"
        },
        "id": "sipmtt5di6_H",
        "outputId": "3ccb8b39-4e03-418d-f18a-76d1530b53b1"
      },
      "execution_count": null,
      "outputs": [
        {
          "output_type": "stream",
          "name": "stdout",
          "text": [
            "1\n",
            "a\n",
            "2\n",
            "b\n",
            "3.3\n"
          ]
        }
      ]
    },
    {
      "cell_type": "code",
      "source": [
        "#Concatenating the 2 list\n",
        "[1,2]+[3,4]"
      ],
      "metadata": {
        "colab": {
          "base_uri": "https://localhost:8080/"
        },
        "id": "jAgtQzxJjON8",
        "outputId": "1fe23948-8461-469d-bdce-afd13da5e873"
      },
      "execution_count": null,
      "outputs": [
        {
          "output_type": "execute_result",
          "data": {
            "text/plain": [
              "[1, 2, 3, 4]"
            ]
          },
          "metadata": {},
          "execution_count": 31
        }
      ]
    },
    {
      "cell_type": "code",
      "source": [
        "(1,2)+(3,4)"
      ],
      "metadata": {
        "colab": {
          "base_uri": "https://localhost:8080/"
        },
        "id": "-TVHb9CnjhiL",
        "outputId": "497c6d07-322c-4ab6-da8f-fce6ce8f858b"
      },
      "execution_count": null,
      "outputs": [
        {
          "output_type": "execute_result",
          "data": {
            "text/plain": [
              "(1, 2, 3, 4)"
            ]
          },
          "metadata": {},
          "execution_count": 32
        }
      ]
    },
    {
      "cell_type": "code",
      "source": [
        "#repeat the elements\n",
        "[10,1,3.3]*3"
      ],
      "metadata": {
        "colab": {
          "base_uri": "https://localhost:8080/"
        },
        "id": "qE4c6yHfjk_L",
        "outputId": "d5c887f5-c457-4e39-921e-01865910a568"
      },
      "execution_count": null,
      "outputs": [
        {
          "output_type": "execute_result",
          "data": {
            "text/plain": [
              "[10, 1, 3.3, 10, 1, 3.3, 10, 1, 3.3]"
            ]
          },
          "metadata": {},
          "execution_count": 34
        }
      ]
    },
    {
      "cell_type": "code",
      "source": [
        "#check if the number is present in the list or not\n",
        "3 in [1,2,3,4,5]"
      ],
      "metadata": {
        "colab": {
          "base_uri": "https://localhost:8080/"
        },
        "id": "xJ7GYLaTj0-k",
        "outputId": "955434a1-89d4-4f4d-d7f7-60fa362287b3"
      },
      "execution_count": null,
      "outputs": [
        {
          "output_type": "execute_result",
          "data": {
            "text/plain": [
              "True"
            ]
          },
          "metadata": {},
          "execution_count": 35
        }
      ]
    },
    {
      "cell_type": "code",
      "source": [
        "x='This is a string'"
      ],
      "metadata": {
        "id": "rQKw4EkTj7zb"
      },
      "execution_count": null,
      "outputs": []
    },
    {
      "cell_type": "code",
      "source": [
        "print(x[0])\n",
        "#first character"
      ],
      "metadata": {
        "colab": {
          "base_uri": "https://localhost:8080/"
        },
        "id": "9nqRP-TwkHMC",
        "outputId": "8f6e8967-c261-4615-e226-b1c84a81e08b"
      },
      "execution_count": null,
      "outputs": [
        {
          "output_type": "stream",
          "name": "stdout",
          "text": [
            "T\n"
          ]
        }
      ]
    },
    {
      "cell_type": "code",
      "source": [
        "print(x[0:1])\n",
        "#first character method 2"
      ],
      "metadata": {
        "colab": {
          "base_uri": "https://localhost:8080/"
        },
        "id": "R2l0GoYFkLhl",
        "outputId": "c963f813-193b-4742-b167-b9c915e554e5"
      },
      "execution_count": null,
      "outputs": [
        {
          "output_type": "stream",
          "name": "stdout",
          "text": [
            "T\n"
          ]
        }
      ]
    },
    {
      "cell_type": "code",
      "source": [
        "#this will start from 0 and stops before 6 , it also includes the blank space\n",
        "print(x[0:6])"
      ],
      "metadata": {
        "colab": {
          "base_uri": "https://localhost:8080/"
        },
        "id": "D-kFpQjkkV-i",
        "outputId": "b4af1f25-48b3-4b99-c39f-663aa8b14520"
      },
      "execution_count": null,
      "outputs": [
        {
          "output_type": "stream",
          "name": "stdout",
          "text": [
            "This i\n"
          ]
        }
      ]
    },
    {
      "cell_type": "code",
      "source": [
        "#returns the slice starting from the 4th element from the end and stopping before 2\n",
        "print(x[-4:-2])"
      ],
      "metadata": {
        "colab": {
          "base_uri": "https://localhost:8080/"
        },
        "id": "DhAhamWPkjbz",
        "outputId": "f95b5346-49da-4e5a-bd16-3f893fbf1d63"
      },
      "execution_count": null,
      "outputs": [
        {
          "output_type": "stream",
          "name": "stdout",
          "text": [
            "ri\n"
          ]
        }
      ]
    },
    {
      "cell_type": "code",
      "source": [
        "x[-8:-3]"
      ],
      "metadata": {
        "colab": {
          "base_uri": "https://localhost:8080/",
          "height": 35
        },
        "id": "BaGD8ny4krP_",
        "outputId": "e0f2ddda-b59d-4bf5-9c8e-7d487f60acd0"
      },
      "execution_count": null,
      "outputs": [
        {
          "output_type": "execute_result",
          "data": {
            "text/plain": [
              "'a str'"
            ],
            "application/vnd.google.colaboratory.intrinsic+json": {
              "type": "string"
            }
          },
          "metadata": {},
          "execution_count": 43
        }
      ]
    },
    {
      "cell_type": "code",
      "source": [
        "#starts from 0 to before 3\n",
        "x[:3]"
      ],
      "metadata": {
        "colab": {
          "base_uri": "https://localhost:8080/",
          "height": 35
        },
        "id": "k1DyngT2lBeY",
        "outputId": "28b46e8a-c2a6-431a-a9d0-832a994de22a"
      },
      "execution_count": null,
      "outputs": [
        {
          "output_type": "execute_result",
          "data": {
            "text/plain": [
              "'Thi'"
            ],
            "application/vnd.google.colaboratory.intrinsic+json": {
              "type": "string"
            }
          },
          "metadata": {},
          "execution_count": 44
        }
      ]
    },
    {
      "cell_type": "code",
      "source": [
        "x[3:]"
      ],
      "metadata": {
        "colab": {
          "base_uri": "https://localhost:8080/",
          "height": 35
        },
        "id": "JcZrP-vVlIbf",
        "outputId": "182f7ad5-591f-4ed6-8068-d3340d334d7c"
      },
      "execution_count": null,
      "outputs": [
        {
          "output_type": "execute_result",
          "data": {
            "text/plain": [
              "'s is a string'"
            ],
            "application/vnd.google.colaboratory.intrinsic+json": {
              "type": "string"
            }
          },
          "metadata": {},
          "execution_count": 45
        }
      ]
    },
    {
      "cell_type": "markdown",
      "source": [
        "above are the character slicing, word slicing will come later"
      ],
      "metadata": {
        "id": "HfwhQ_BqlMOI"
      }
    },
    {
      "cell_type": "code",
      "source": [
        "firstname='MSIS'\n",
        "lastname='Manipal'"
      ],
      "metadata": {
        "id": "SHFybaNtlPs3"
      },
      "execution_count": null,
      "outputs": []
    },
    {
      "cell_type": "code",
      "source": [
        "print(firstname+' '+lastname)"
      ],
      "metadata": {
        "colab": {
          "base_uri": "https://localhost:8080/"
        },
        "id": "iSTrWOB3lWvj",
        "outputId": "9d8369d1-a959-4c65-8243-23e5505594b7"
      },
      "execution_count": null,
      "outputs": [
        {
          "output_type": "stream",
          "name": "stdout",
          "text": [
            "MSIS Manipal\n"
          ]
        }
      ]
    },
    {
      "cell_type": "code",
      "source": [
        "print(firstname*3)"
      ],
      "metadata": {
        "colab": {
          "base_uri": "https://localhost:8080/"
        },
        "id": "qUT0oDyNlZgP",
        "outputId": "e021e347-592c-4a20-8faa-34558bf12a1e"
      },
      "execution_count": null,
      "outputs": [
        {
          "output_type": "stream",
          "name": "stdout",
          "text": [
            "MSISMSISMSIS\n"
          ]
        }
      ]
    },
    {
      "cell_type": "code",
      "source": [
        "print('is' in firstname)"
      ],
      "metadata": {
        "colab": {
          "base_uri": "https://localhost:8080/"
        },
        "id": "82vYnYjzlfim",
        "outputId": "1105a549-2824-4472-b8ed-3e92676ea2e1"
      },
      "execution_count": null,
      "outputs": [
        {
          "output_type": "stream",
          "name": "stdout",
          "text": [
            "False\n"
          ]
        }
      ]
    },
    {
      "cell_type": "code",
      "source": [
        "print('IS'in firstname)"
      ],
      "metadata": {
        "colab": {
          "base_uri": "https://localhost:8080/"
        },
        "id": "z4TIrZn_ljhS",
        "outputId": "2a00d09e-032b-445f-e15b-0c845b9b3d47"
      },
      "execution_count": null,
      "outputs": [
        {
          "output_type": "stream",
          "name": "stdout",
          "text": [
            "True\n"
          ]
        }
      ]
    },
    {
      "cell_type": "code",
      "source": [
        "#slicing the sentence\n",
        "\n",
        "firstname='Tom Mitchell Machine Learning Scientist'.split(' ')[0]\n",
        "\n",
        "middlename='Tom Mitchell Machine Learning Scientist'.split(' ')[1]\n",
        "\n",
        "lastname='Tom Mitchell Machine Learning Scientist'.split(' ')[-1]"
      ],
      "metadata": {
        "id": "3BdkKABoloWF"
      },
      "execution_count": null,
      "outputs": []
    },
    {
      "cell_type": "code",
      "source": [
        "print(firstname)"
      ],
      "metadata": {
        "colab": {
          "base_uri": "https://localhost:8080/"
        },
        "id": "JU0clhLGl8S1",
        "outputId": "b77e3eba-067e-4dde-d9ad-b5f8ac13118e"
      },
      "execution_count": null,
      "outputs": [
        {
          "output_type": "stream",
          "name": "stdout",
          "text": [
            "Tom\n"
          ]
        }
      ]
    },
    {
      "cell_type": "code",
      "source": [
        "print(middlename)"
      ],
      "metadata": {
        "colab": {
          "base_uri": "https://localhost:8080/"
        },
        "id": "QoAOYs15l-j3",
        "outputId": "56d9691b-d2d7-4bae-a354-a5d6738f3a45"
      },
      "execution_count": null,
      "outputs": [
        {
          "output_type": "stream",
          "name": "stdout",
          "text": [
            "Mitchell\n"
          ]
        }
      ]
    },
    {
      "cell_type": "code",
      "source": [
        "print(lastname)"
      ],
      "metadata": {
        "colab": {
          "base_uri": "https://localhost:8080/"
        },
        "id": "bFXepAY2mA_b",
        "outputId": "6e6c276c-1052-4969-b27c-185104a34dfa"
      },
      "execution_count": null,
      "outputs": [
        {
          "output_type": "stream",
          "name": "stdout",
          "text": [
            "Scientist\n"
          ]
        }
      ]
    },
    {
      "cell_type": "code",
      "source": [
        "print(firstname+' '+middlename+' '+lastname)"
      ],
      "metadata": {
        "colab": {
          "base_uri": "https://localhost:8080/"
        },
        "id": "MyiXNC0QmCc3",
        "outputId": "62e9594f-3b0e-491f-ec30-8b1cef72a5d7"
      },
      "execution_count": null,
      "outputs": [
        {
          "output_type": "stream",
          "name": "stdout",
          "text": [
            "Tom Mitchell Scientist\n"
          ]
        }
      ]
    },
    {
      "cell_type": "code",
      "source": [
        "#have to convert objects to strings before concatination else it will throw error saying cannot add integer to a string\n",
        "#single quote or double quote means its a string\n",
        "'Chrish'+'2'"
      ],
      "metadata": {
        "colab": {
          "base_uri": "https://localhost:8080/",
          "height": 35
        },
        "id": "c8_p3RbgmOF0",
        "outputId": "2f539b32-84ec-4d78-931b-a1e4fd931893"
      },
      "execution_count": null,
      "outputs": [
        {
          "output_type": "execute_result",
          "data": {
            "text/plain": [
              "'Chrish2'"
            ],
            "application/vnd.google.colaboratory.intrinsic+json": {
              "type": "string"
            }
          },
          "metadata": {},
          "execution_count": 64
        }
      ]
    },
    {
      "cell_type": "code",
      "source": [
        "'Chris'+str(2)"
      ],
      "metadata": {
        "colab": {
          "base_uri": "https://localhost:8080/",
          "height": 35
        },
        "id": "MBrAaKs1maPQ",
        "outputId": "e950225d-852c-4e89-f8b5-56dc5e330a74"
      },
      "execution_count": null,
      "outputs": [
        {
          "output_type": "execute_result",
          "data": {
            "text/plain": [
              "'Chris2'"
            ],
            "application/vnd.google.colaboratory.intrinsic+json": {
              "type": "string"
            }
          },
          "metadata": {},
          "execution_count": 65
        }
      ]
    },
    {
      "cell_type": "code",
      "source": [
        "#Dictionary\n",
        "x={'Tom':'tom.m@gmail.com','Bill Gates':'billgates@microsoft.com'}"
      ],
      "metadata": {
        "id": "JDuqqGY_m-aG"
      },
      "execution_count": null,
      "outputs": []
    },
    {
      "cell_type": "code",
      "source": [
        "x['Bill Gates']"
      ],
      "metadata": {
        "colab": {
          "base_uri": "https://localhost:8080/",
          "height": 35
        },
        "id": "2Moy0Fu_nob1",
        "outputId": "48dab4dc-467b-4f15-8bbb-00e9372f0815"
      },
      "execution_count": null,
      "outputs": [
        {
          "output_type": "execute_result",
          "data": {
            "text/plain": [
              "'billgates@microsoft.com'"
            ],
            "application/vnd.google.colaboratory.intrinsic+json": {
              "type": "string"
            }
          },
          "metadata": {},
          "execution_count": 68
        }
      ]
    },
    {
      "cell_type": "code",
      "source": [
        "x.update({'harshith': 'harshith462003@gmail.com', 'Adhitya': 'aditykr142@gmail.com'})\n"
      ],
      "metadata": {
        "id": "ECY2nKs2nqTU"
      },
      "execution_count": null,
      "outputs": []
    },
    {
      "cell_type": "code",
      "source": [
        "x['harshith']"
      ],
      "metadata": {
        "colab": {
          "base_uri": "https://localhost:8080/",
          "height": 35
        },
        "id": "m-Sed7hon8vR",
        "outputId": "43458324-6970-46c6-c26a-9721e6623a92"
      },
      "execution_count": null,
      "outputs": [
        {
          "output_type": "execute_result",
          "data": {
            "text/plain": [
              "'harshith462003@gmail.com'"
            ],
            "application/vnd.google.colaboratory.intrinsic+json": {
              "type": "string"
            }
          },
          "metadata": {},
          "execution_count": 73
        }
      ]
    },
    {
      "cell_type": "code",
      "source": [
        "x['Adhitya']"
      ],
      "metadata": {
        "colab": {
          "base_uri": "https://localhost:8080/",
          "height": 35
        },
        "id": "Cn_nKMGtobnQ",
        "outputId": "30e15286-0419-4cf3-d693-8145c3d4a750"
      },
      "execution_count": null,
      "outputs": [
        {
          "output_type": "execute_result",
          "data": {
            "text/plain": [
              "'aditykr142@gmail.com'"
            ],
            "application/vnd.google.colaboratory.intrinsic+json": {
              "type": "string"
            }
          },
          "metadata": {},
          "execution_count": 74
        }
      ]
    },
    {
      "cell_type": "code",
      "source": [
        "x"
      ],
      "metadata": {
        "colab": {
          "base_uri": "https://localhost:8080/"
        },
        "id": "71LOdpI2oeRU",
        "outputId": "283da4ed-931b-44e6-c085-8b6fd67e17b0"
      },
      "execution_count": null,
      "outputs": [
        {
          "output_type": "execute_result",
          "data": {
            "text/plain": [
              "{'Tom': 'tom.m@gmail.com',\n",
              " 'Bill Gates': 'billgates@microsoft.com',\n",
              " 'harshith': 'harshith462003@gmail.com',\n",
              " 'Adhitya': 'aditykr142@gmail.com'}"
            ]
          },
          "metadata": {},
          "execution_count": 75
        }
      ]
    },
    {
      "cell_type": "code",
      "source": [
        "for name in x:\n",
        "  print(name)"
      ],
      "metadata": {
        "colab": {
          "base_uri": "https://localhost:8080/"
        },
        "id": "eHNeZITuofvE",
        "outputId": "26d9110c-086b-4d9d-92d9-dfbbf9fa2c59"
      },
      "execution_count": null,
      "outputs": [
        {
          "output_type": "stream",
          "name": "stdout",
          "text": [
            "Tom\n",
            "Bill Gates\n",
            "harshith\n",
            "Adhitya\n"
          ]
        }
      ]
    },
    {
      "cell_type": "code",
      "source": [
        "for name in x:\n",
        "  print(x[name])"
      ],
      "metadata": {
        "colab": {
          "base_uri": "https://localhost:8080/"
        },
        "id": "hMBPtrx-orLW",
        "outputId": "4e8da569-ff94-4fdc-f6b4-f61f9702ee21"
      },
      "execution_count": null,
      "outputs": [
        {
          "output_type": "stream",
          "name": "stdout",
          "text": [
            "tom.m@gmail.com\n",
            "billgates@microsoft.com\n",
            "harshith462003@gmail.com\n",
            "aditykr142@gmail.com\n"
          ]
        }
      ]
    },
    {
      "cell_type": "code",
      "source": [
        "x=('Tom','Mitchell','tom.m@gmail.com')\n",
        "fname,lname,email=x\n",
        "lname"
      ],
      "metadata": {
        "colab": {
          "base_uri": "https://localhost:8080/",
          "height": 35
        },
        "id": "fq8q2lpPpHB1",
        "outputId": "7138080d-8b74-49a8-a989-2abfc5d02b1f"
      },
      "execution_count": null,
      "outputs": [
        {
          "output_type": "execute_result",
          "data": {
            "text/plain": [
              "'Mitchell'"
            ],
            "application/vnd.google.colaboratory.intrinsic+json": {
              "type": "string"
            }
          },
          "metadata": {},
          "execution_count": 81
        }
      ]
    },
    {
      "cell_type": "code",
      "source": [
        "lname"
      ],
      "metadata": {
        "colab": {
          "base_uri": "https://localhost:8080/",
          "height": 35
        },
        "id": "RgvU2zOvpVDs",
        "outputId": "480994ba-2ca8-47b7-9ce2-aecba707b8bd"
      },
      "execution_count": null,
      "outputs": [
        {
          "output_type": "execute_result",
          "data": {
            "text/plain": [
              "'Mitchell'"
            ],
            "application/vnd.google.colaboratory.intrinsic+json": {
              "type": "string"
            }
          },
          "metadata": {},
          "execution_count": 82
        }
      ]
    },
    {
      "cell_type": "code",
      "source": [
        "fname"
      ],
      "metadata": {
        "colab": {
          "base_uri": "https://localhost:8080/",
          "height": 35
        },
        "id": "HCSmuc5YpcdL",
        "outputId": "ae05f21d-1f34-439d-cc31-ddf64958e476"
      },
      "execution_count": null,
      "outputs": [
        {
          "output_type": "execute_result",
          "data": {
            "text/plain": [
              "'Tom'"
            ],
            "application/vnd.google.colaboratory.intrinsic+json": {
              "type": "string"
            }
          },
          "metadata": {},
          "execution_count": 83
        }
      ]
    },
    {
      "cell_type": "code",
      "source": [
        "x=('Tom','Mitchell','tom.m@gmail.com','MSIS')\n",
        "fname,lname,email,dept=x\n",
        "dept"
      ],
      "metadata": {
        "colab": {
          "base_uri": "https://localhost:8080/",
          "height": 35
        },
        "id": "dbFLywBRpiV2",
        "outputId": "76fc3094-7033-4591-e781-efa58d20604f"
      },
      "execution_count": null,
      "outputs": [
        {
          "output_type": "execute_result",
          "data": {
            "text/plain": [
              "'MSIS'"
            ],
            "application/vnd.google.colaboratory.intrinsic+json": {
              "type": "string"
            }
          },
          "metadata": {},
          "execution_count": 84
        }
      ]
    },
    {
      "cell_type": "code",
      "source": [
        "sales_record={\n",
        "    'price':3.24,\n",
        "    'num_items':4,\n",
        "    'person':'tom',\n",
        "    'email':'tom.m@gmail.com'\n",
        "}"
      ],
      "metadata": {
        "id": "TYysCHbLpsHz"
      },
      "execution_count": null,
      "outputs": []
    },
    {
      "cell_type": "code",
      "source": [
        "sale_statement='{} bought {} items at a price of INR each for a total of INR {}'.format(sales_record['person'],sales_record['num_items'],sales_record['price']*sales_record['num_items'])"
      ],
      "metadata": {
        "id": "LlmCrGzfp3s3"
      },
      "execution_count": null,
      "outputs": []
    },
    {
      "cell_type": "code",
      "source": [
        "print (sale_statement)"
      ],
      "metadata": {
        "colab": {
          "base_uri": "https://localhost:8080/"
        },
        "id": "5cD1BgGSqZo8",
        "outputId": "cfb1c588-6145-463f-f2ce-fe5a58c2454e"
      },
      "execution_count": null,
      "outputs": [
        {
          "output_type": "stream",
          "name": "stdout",
          "text": [
            "tom bought 4 items at a price of INR each for a total of INR 12.96\n"
          ]
        }
      ]
    },
    {
      "cell_type": "code",
      "source": [
        "import datetime as dt\n",
        "import time as tm"
      ],
      "metadata": {
        "id": "ux8KSMbSqbeq"
      },
      "execution_count": null,
      "outputs": []
    },
    {
      "cell_type": "code",
      "source": [
        "#time in seconds from 1st jan 1970\n",
        "tm.time()"
      ],
      "metadata": {
        "colab": {
          "base_uri": "https://localhost:8080/"
        },
        "id": "9lBG2nWwrgQB",
        "outputId": "6c3237a9-a876-4c5a-f5d9-b2fc87f623b1"
      },
      "execution_count": null,
      "outputs": [
        {
          "output_type": "execute_result",
          "data": {
            "text/plain": [
              "1755596112.3581824"
            ]
          },
          "metadata": {},
          "execution_count": 95
        }
      ]
    },
    {
      "cell_type": "code",
      "source": [
        "from datetime import date\n",
        "from datetime import time\n",
        "from datetime import datetime"
      ],
      "metadata": {
        "id": "Spsaf8dNrhl4"
      },
      "execution_count": null,
      "outputs": []
    },
    {
      "cell_type": "code",
      "source": [
        "today=date.today()\n",
        "print('today is ',today)\n"
      ],
      "metadata": {
        "colab": {
          "base_uri": "https://localhost:8080/"
        },
        "id": "skeKT2OXr_cb",
        "outputId": "4fc88b3d-7905-47b2-e0c8-4f8d6ba0981d"
      },
      "execution_count": null,
      "outputs": [
        {
          "output_type": "stream",
          "name": "stdout",
          "text": [
            "today is  2025-08-19\n"
          ]
        }
      ]
    },
    {
      "cell_type": "code",
      "source": [
        "dtnow=dt.datetime.fromtimestamp(tm.time())\n",
        "dtnow"
      ],
      "metadata": {
        "colab": {
          "base_uri": "https://localhost:8080/"
        },
        "id": "432rI3BmsGgC",
        "outputId": "d2fee5da-b027-40e3-b053-e5061b2f9779"
      },
      "execution_count": null,
      "outputs": [
        {
          "output_type": "execute_result",
          "data": {
            "text/plain": [
              "datetime.datetime(2025, 8, 19, 9, 40, 21, 675832)"
            ]
          },
          "metadata": {},
          "execution_count": 102
        }
      ]
    },
    {
      "cell_type": "code",
      "source": [
        "today=dt.date.today()\n",
        "delta=dt.timedelta(days=100)\n"
      ],
      "metadata": {
        "id": "vSfU9ilFsZjg"
      },
      "execution_count": null,
      "outputs": []
    },
    {
      "cell_type": "code",
      "source": [
        "today-delta"
      ],
      "metadata": {
        "colab": {
          "base_uri": "https://localhost:8080/"
        },
        "id": "LNTk9i3rs5DT",
        "outputId": "c3ee22a0-7fe4-4347-81a5-9ab9078edf6f"
      },
      "execution_count": null,
      "outputs": [
        {
          "output_type": "execute_result",
          "data": {
            "text/plain": [
              "datetime.date(2025, 5, 11)"
            ]
          },
          "metadata": {},
          "execution_count": 108
        }
      ]
    },
    {
      "cell_type": "code",
      "source": [
        "today>today-delta"
      ],
      "metadata": {
        "colab": {
          "base_uri": "https://localhost:8080/"
        },
        "id": "9dVL9bA3s-Mb",
        "outputId": "649faa3f-c970-409b-95bc-6f2a16cbd264"
      },
      "execution_count": null,
      "outputs": [
        {
          "output_type": "execute_result",
          "data": {
            "text/plain": [
              "True"
            ]
          },
          "metadata": {},
          "execution_count": 109
        }
      ]
    },
    {
      "cell_type": "markdown",
      "source": [
        "### ASSIGNMENT 2 :19th August 2025 Tuesday"
      ],
      "metadata": {
        "id": "u4NMBmGDu4Fq"
      }
    },
    {
      "cell_type": "markdown",
      "source": [
        "1. Implementation of the classic quicksort algorithm in Python."
      ],
      "metadata": {
        "id": "og5whLb5wcd1"
      }
    },
    {
      "cell_type": "code",
      "source": [
        "#1. Implementation of the classic quicksort algorithm in Python.\n",
        "numbers = [89, 14, 21, 34, 55, 3]\n",
        "\n",
        "def quick_sort(arr):\n",
        "    if len(arr) <= 1:\n",
        "        return arr\n",
        "    pivot = arr[len(arr) // 2]\n",
        "    left = [x for x in arr if x < pivot]\n",
        "    middle = [x for x in arr if x == pivot]\n",
        "    right = [x for x in arr if x > pivot]\n",
        "    return quick_sort(left) + middle + quick_sort(right)\n",
        "\n",
        "print(\"Original List:\", numbers)\n",
        "print(\"Quick Sort:\", quick_sort(numbers))\n"
      ],
      "metadata": {
        "colab": {
          "base_uri": "https://localhost:8080/"
        },
        "id": "kTuiWjA6u_rS",
        "outputId": "fb5766a9-cf2f-4fdd-b679-25343c90253c"
      },
      "execution_count": null,
      "outputs": [
        {
          "output_type": "stream",
          "name": "stdout",
          "text": [
            "Original List: [89, 14, 21, 34, 55, 3]\n",
            "Quick Sort: [3, 14, 21, 34, 55, 89]\n"
          ]
        }
      ]
    },
    {
      "cell_type": "markdown",
      "source": [
        "2. write the output of the following code:"
      ],
      "metadata": {
        "id": "pRWRcTJJxXpV"
      }
    },
    {
      "cell_type": "markdown",
      "source": [
        "a."
      ],
      "metadata": {
        "id": "mlLPdWBXxhnI"
      }
    },
    {
      "cell_type": "code",
      "source": [
        "hello = 'hello'\n",
        "world = \"world\"\n",
        "print(hello)\n",
        "print(len(hello))\n",
        "hw = hello + ' ' + world\n",
        "print(hw)\n",
        "hw12 = '%s %s %d' % (hello, world, 12)\n",
        "print(hw12)"
      ],
      "metadata": {
        "colab": {
          "base_uri": "https://localhost:8080/"
        },
        "id": "ogG0KKr2xbtf",
        "outputId": "9421fdac-a394-48c7-8fbd-6fa90c610f63"
      },
      "execution_count": null,
      "outputs": [
        {
          "output_type": "stream",
          "name": "stdout",
          "text": [
            "hello\n",
            "5\n",
            "hello world\n",
            "hello world 12\n"
          ]
        }
      ]
    },
    {
      "cell_type": "markdown",
      "source": [
        "b."
      ],
      "metadata": {
        "id": "JYtpSNtvxitl"
      }
    },
    {
      "cell_type": "code",
      "source": [
        "s = \"hello\"\n",
        "print(s.capitalize())\n",
        "print(s.upper())\n",
        "print(s.rjust(7))\n",
        "print(s.center(7))\n",
        "print(s.replace('l', '(ell)'))\n",
        "print('  world '.strip())"
      ],
      "metadata": {
        "colab": {
          "base_uri": "https://localhost:8080/"
        },
        "id": "e0-nmBrrxfDs",
        "outputId": "b7686b9b-c6a3-4668-9d1c-8c923b468198"
      },
      "execution_count": null,
      "outputs": [
        {
          "output_type": "stream",
          "name": "stdout",
          "text": [
            "Hello\n",
            "HELLO\n",
            "  hello\n",
            " hello \n",
            "he(ell)(ell)o\n",
            "world\n"
          ]
        }
      ]
    },
    {
      "cell_type": "markdown",
      "source": [
        "\n",
        "3. rewrite the following code using list comprehension technique."
      ],
      "metadata": {
        "id": "ZC74M7Hnxm9Z"
      }
    },
    {
      "cell_type": "code",
      "source": [
        "nums = [0, 1, 2, 3, 4]\n",
        "squares = []\n",
        "for x in nums:\n",
        "    squares.append(x ** 2)\n",
        "print(squares)   # Prints [0, 1, 4, 9, 16]"
      ],
      "metadata": {
        "colab": {
          "base_uri": "https://localhost:8080/"
        },
        "id": "pwNsbmCIxjfc",
        "outputId": "e35750a9-2228-4642-8286-91375c82c295"
      },
      "execution_count": null,
      "outputs": [
        {
          "output_type": "stream",
          "name": "stdout",
          "text": [
            "[0, 1, 4, 9, 16]\n"
          ]
        }
      ]
    },
    {
      "cell_type": "code",
      "source": [
        "nums=[0,1,2,3,4]\n",
        "squares=[x**2 for x in nums]\n",
        "print(squares)"
      ],
      "metadata": {
        "colab": {
          "base_uri": "https://localhost:8080/"
        },
        "id": "EcHIHwvg8WoZ",
        "outputId": "14e7b23e-4540-4bfb-86bd-d8df67412b23"
      },
      "execution_count": null,
      "outputs": [
        {
          "output_type": "stream",
          "name": "stdout",
          "text": [
            "[0, 1, 4, 9, 16]\n"
          ]
        }
      ]
    },
    {
      "cell_type": "markdown",
      "source": [
        "4. Consider the following dictionary\n",
        "\n",
        "d = {'person': 2, 'cat': 4, 'spider': 8}\n",
        "\n",
        "write a code to iterate over the keys to print \"A person has 2 legs\", \"A cat has 4 legs\", \"A spider has 8 legs\""
      ],
      "metadata": {
        "id": "U2fegZXt9Ige"
      }
    },
    {
      "cell_type": "code",
      "source": [
        "d = {'person': 2, 'cat': 4, 'spider': 8}\n",
        "\n",
        "for key, value in d.items():\n",
        "    print(f\"A {key} has {value} legs\")\n"
      ],
      "metadata": {
        "colab": {
          "base_uri": "https://localhost:8080/"
        },
        "id": "ZIin_5tJ857C",
        "outputId": "f4037876-630b-41de-fab0-c96ecc089462"
      },
      "execution_count": null,
      "outputs": [
        {
          "output_type": "stream",
          "name": "stdout",
          "text": [
            "A person has 2 legs\n",
            "A cat has 4 legs\n",
            "A spider has 8 legs\n"
          ]
        }
      ]
    },
    {
      "cell_type": "markdown",
      "source": [
        "5. use the items method to rewrite the above code to access the keys and their corresponding values."
      ],
      "metadata": {
        "id": "wMh3cF1T9Uoy"
      }
    },
    {
      "cell_type": "code",
      "source": [
        "d = {'person': 2, 'cat': 4, 'spider': 8}\n",
        "\n",
        "for key, value in d.items():   # .items() gives (key, value) pairs\n",
        "    print(f\"A {key} has {value} legs\")\n"
      ],
      "metadata": {
        "colab": {
          "base_uri": "https://localhost:8080/"
        },
        "id": "rwu4H8-Y9LNr",
        "outputId": "c47dd884-26be-4765-aabd-b7e3bcaba94a"
      },
      "execution_count": null,
      "outputs": [
        {
          "output_type": "stream",
          "name": "stdout",
          "text": [
            "A person has 2 legs\n",
            "A cat has 4 legs\n",
            "A spider has 8 legs\n"
          ]
        }
      ]
    },
    {
      "cell_type": "markdown",
      "source": [
        "6. Write the output of the following lines"
      ],
      "metadata": {
        "id": "31PI9H3s9f_E"
      }
    },
    {
      "cell_type": "code",
      "source": [
        "nums = list(range(5))\n",
        "print(nums)\n",
        "print(nums[2:4])\n",
        "print(nums[2:])\n",
        "print(nums[:2])\n",
        "print(nums[:])\n",
        "print(nums[:-1])\n",
        "nums[2:4] = [8, 9]\n",
        "print(nums)"
      ],
      "metadata": {
        "colab": {
          "base_uri": "https://localhost:8080/"
        },
        "id": "wmKzjaEy9ghv",
        "outputId": "952a7c26-ff22-470d-e203-cb5d63e21155"
      },
      "execution_count": null,
      "outputs": [
        {
          "output_type": "stream",
          "name": "stdout",
          "text": [
            "[0, 1, 2, 3, 4]\n",
            "[2, 3]\n",
            "[2, 3, 4]\n",
            "[0, 1]\n",
            "[0, 1, 2, 3, 4]\n",
            "[0, 1, 2, 3]\n",
            "[0, 1, 8, 9, 4]\n"
          ]
        }
      ]
    },
    {
      "cell_type": "markdown",
      "source": [
        "7. Write the differences between the following two code block"
      ],
      "metadata": {
        "id": "3Mp-rYAh9sdy"
      }
    },
    {
      "cell_type": "code",
      "source": [
        "animals = ['cat', 'dog', 'monkey']\n",
        "for animal in animals:\n",
        "    \t  print(animal)\n",
        "\n",
        "\n",
        "animals = ['cat', 'dog', 'monkey']\n",
        "for idx, animal in enumerate(animals):\n",
        "   \t    print('#%d: %s' % (idx + 1, animal))"
      ],
      "metadata": {
        "colab": {
          "base_uri": "https://localhost:8080/"
        },
        "id": "APffa1wa9lAs",
        "outputId": "3f3a7b14-9e24-4567-9e9b-cae98cd11d7b"
      },
      "execution_count": null,
      "outputs": [
        {
          "output_type": "stream",
          "name": "stdout",
          "text": [
            "cat\n",
            "dog\n",
            "monkey\n",
            "#1: cat\n",
            "#2: dog\n",
            "#3: monkey\n"
          ]
        }
      ]
    },
    {
      "cell_type": "markdown",
      "source": [
        "8. Consider the following code\n",
        "\n",
        "\tnums = [0, 1, 2, 3, 4]\n",
        "\tsquares = []\n",
        "\tfor x in nums:\n",
        "    \n",
        "    squares.append(x ** 2)\n",
        "    \n",
        "\tprint(squares)\n",
        "\n",
        "    rewrite the above code using a list comprehension technique"
      ],
      "metadata": {
        "id": "0vDOGwxe91T5"
      }
    },
    {
      "cell_type": "code",
      "source": [
        "nums = [0, 1, 2, 3, 4]\n",
        "squares = []\n",
        "for x in nums:\n",
        "    squares.append(x ** 2)\n",
        "print(squares)"
      ],
      "metadata": {
        "colab": {
          "base_uri": "https://localhost:8080/"
        },
        "id": "3joINz6W99dA",
        "outputId": "9277a57d-7088-420c-91a0-a2d39a5c73e4"
      },
      "execution_count": null,
      "outputs": [
        {
          "output_type": "stream",
          "name": "stdout",
          "text": [
            "[0, 1, 4, 9, 16]\n"
          ]
        }
      ]
    },
    {
      "cell_type": "code",
      "source": [
        "nums=[1,2,3,4]\n",
        "squares=[x**2 for x in nums]\n",
        "print(squares)"
      ],
      "metadata": {
        "colab": {
          "base_uri": "https://localhost:8080/"
        },
        "id": "pqRXOOOz-Gpe",
        "outputId": "0e3cbea6-fac1-4fa0-dcdd-587be26d9501"
      },
      "execution_count": null,
      "outputs": [
        {
          "output_type": "stream",
          "name": "stdout",
          "text": [
            "[1, 4, 9, 16]\n"
          ]
        }
      ]
    },
    {
      "cell_type": "markdown",
      "source": [
        "Q9. Print square of even numbers from list"
      ],
      "metadata": {
        "id": "3RLerZhA-nUH"
      }
    },
    {
      "cell_type": "code",
      "source": [
        "nums = [0, 1, 2, 3, 4]\n",
        "\n",
        "for n in nums:\n",
        "    if n % 2 == 0:   # check even\n",
        "        print(n**2)\n"
      ],
      "metadata": {
        "colab": {
          "base_uri": "https://localhost:8080/"
        },
        "id": "9ZX3wri5-Yx4",
        "outputId": "9d85b48c-531b-4f18-c994-5de8cdb57858"
      },
      "execution_count": null,
      "outputs": [
        {
          "output_type": "stream",
          "name": "stdout",
          "text": [
            "0\n",
            "4\n",
            "16\n"
          ]
        }
      ]
    },
    {
      "cell_type": "markdown",
      "source": [
        "Q10. Using dictionary"
      ],
      "metadata": {
        "id": "CZd05PcF-xJ6"
      }
    },
    {
      "cell_type": "code",
      "source": [
        "d = {'person': 2, 'cat': 4, 'spider': 8}\n",
        "\n",
        "for key in d:\n",
        "    print(f\"A {key} has {d[key]} legs\")\n"
      ],
      "metadata": {
        "colab": {
          "base_uri": "https://localhost:8080/"
        },
        "id": "nWOyWoBX-rKh",
        "outputId": "6b1c4384-b74d-4fcd-fc08-84f837177822"
      },
      "execution_count": null,
      "outputs": [
        {
          "output_type": "stream",
          "name": "stdout",
          "text": [
            "A person has 2 legs\n",
            "A cat has 4 legs\n",
            "A spider has 8 legs\n"
          ]
        }
      ]
    },
    {
      "cell_type": "markdown",
      "source": [
        "Q11. Using .items()"
      ],
      "metadata": {
        "id": "AY0wMpHa-3b-"
      }
    },
    {
      "cell_type": "code",
      "source": [
        "d = {'person': 2, 'cat': 4, 'spider': 8}\n",
        "\n",
        "for key, value in d.items():\n",
        "    print(f\"A {key} has {value} legs\")\n"
      ],
      "metadata": {
        "colab": {
          "base_uri": "https://localhost:8080/"
        },
        "id": "6Xn-p2M--zxg",
        "outputId": "191d7cc5-7482-453b-ebc9-e501aa234cba"
      },
      "execution_count": null,
      "outputs": [
        {
          "output_type": "stream",
          "name": "stdout",
          "text": [
            "A person has 2 legs\n",
            "A cat has 4 legs\n",
            "A spider has 8 legs\n"
          ]
        }
      ]
    },
    {
      "cell_type": "markdown",
      "source": [
        "Q12. Numpy array operations //not done in class"
      ],
      "metadata": {
        "id": "9drlC53A--EZ"
      }
    },
    {
      "cell_type": "code",
      "source": [
        "import numpy as np\n",
        "\n",
        "a = np.array([1, 2, 3])\n",
        "print(type(a))            # <class 'numpy.ndarray'>\n",
        "print(a.shape)            # (3,)\n",
        "print(a[0], a[1], a[2])   # 1 2 3\n",
        "a[0] = 5\n",
        "print(a)                  # [5 2 3]\n",
        "\n",
        "b = np.array([[1,2,3],[4,5,6]])\n",
        "print(b.shape)            # (2, 3)\n",
        "print(b[0, 0], b[0, 1], b[1, 0])  # 1 2 4\n"
      ],
      "metadata": {
        "colab": {
          "base_uri": "https://localhost:8080/"
        },
        "id": "z1w03IuV_AWC",
        "outputId": "4ee981a6-cd1d-4cb4-e2d4-368472f2c239"
      },
      "execution_count": null,
      "outputs": [
        {
          "output_type": "stream",
          "name": "stdout",
          "text": [
            "<class 'numpy.ndarray'>\n",
            "(3,)\n",
            "1 2 3\n",
            "[5 2 3]\n",
            "(2, 3)\n",
            "1 2 4\n"
          ]
        }
      ]
    },
    {
      "cell_type": "markdown",
      "source": [
        "Q13. Array creation"
      ],
      "metadata": {
        "id": "DdPvbaZO_Jh4"
      }
    },
    {
      "cell_type": "code",
      "source": [
        "import numpy as np\n",
        "\n",
        "a = np.zeros((2,2))\n",
        "print(a)\n",
        "# [[0. 0.]\n",
        "#  [0. 0.]]\n",
        "\n",
        "b = np.ones((1,2))\n",
        "print(b)\n",
        "# [[1. 1.]]\n",
        "\n",
        "c = np.full((2,2), 7)\n",
        "print(c)\n",
        "# [[7 7]\n",
        "#  [7 7]]\n",
        "\n",
        "d = np.eye(2)\n",
        "print(d)\n",
        "# [[1. 0.]\n",
        "#  [0. 1.]]\n",
        "\n",
        "e = np.random.random((2,2))\n",
        "print(e)   # random 2x2 values between 0 and 1"
      ],
      "metadata": {
        "id": "4WZF7rg5_F6S"
      },
      "execution_count": null,
      "outputs": []
    },
    {
      "cell_type": "markdown",
      "source": [
        "Q14. Rank 2 array & slicing"
      ],
      "metadata": {
        "id": "2UJR4WJs_KXt"
      }
    },
    {
      "cell_type": "code",
      "source": [
        "import numpy as np\n",
        "\n",
        "a = np.array([[1, 2, 3, 4],\n",
        "              [5, 6, 7, 8],\n",
        "              [9,10,11,12]])\n",
        "\n",
        "b = a[0:2, 1:3]   # rows 0,1 and cols 1,2\n",
        "print(b)\n"
      ],
      "metadata": {
        "colab": {
          "base_uri": "https://localhost:8080/"
        },
        "id": "QdFsq8Zm_OhG",
        "outputId": "6a92f020-9c8e-48b6-c2fc-cc1a52bae549"
      },
      "execution_count": null,
      "outputs": [
        {
          "output_type": "stream",
          "name": "stdout",
          "text": [
            "[[2 3]\n",
            " [6 7]]\n"
          ]
        }
      ]
    },
    {
      "cell_type": "markdown",
      "source": [
        "Q15. Elements bigger than 2"
      ],
      "metadata": {
        "id": "2VTtTpr__Tjb"
      }
    },
    {
      "cell_type": "code",
      "source": [
        "a1 = np.array([[1,2], [3,4], [5,6]])\n",
        "\n",
        "res = a1[a1 > 2]\n",
        "print(res)\n"
      ],
      "metadata": {
        "colab": {
          "base_uri": "https://localhost:8080/"
        },
        "id": "5_OIyHLu_TXI",
        "outputId": "6cbd7957-9b08-4303-dbf0-00f84d9bb03e"
      },
      "execution_count": null,
      "outputs": [
        {
          "output_type": "stream",
          "name": "stdout",
          "text": [
            "[3 4 5 6]\n"
          ]
        }
      ]
    },
    {
      "cell_type": "markdown",
      "source": [
        "Q16. Dot products"
      ],
      "metadata": {
        "id": "2UKFK-sx_WxO"
      }
    },
    {
      "cell_type": "code",
      "source": [
        "import numpy as np\n",
        "\n",
        "x = np.array([[1,2],[3,4]])\n",
        "y = np.array([[5,6],[7,8]])\n",
        "\n",
        "v = np.array([9,10])\n",
        "w = np.array([11, 12])\n",
        "\n",
        "print(v.dot(w))          # 219\n",
        "print(np.dot(v, w))      # 219\n",
        "\n",
        "print(x.dot(v))          # [29 67]\n",
        "print(np.dot(x, v))      # [29 67]\n",
        "\n",
        "print(x.dot(y))          # [[19 22]\n",
        "                         #  [43 50]]\n",
        "print(np.dot(x, y))      # same\n"
      ],
      "metadata": {
        "colab": {
          "base_uri": "https://localhost:8080/"
        },
        "id": "ROuw7xo0_ZM6",
        "outputId": "cc423333-aaff-4ee1-d098-e80291f8eb71"
      },
      "execution_count": null,
      "outputs": [
        {
          "output_type": "stream",
          "name": "stdout",
          "text": [
            "219\n",
            "219\n",
            "[29 67]\n",
            "[29 67]\n",
            "[[19 22]\n",
            " [43 50]]\n",
            "[[19 22]\n",
            " [43 50]]\n"
          ]
        }
      ]
    },
    {
      "cell_type": "markdown",
      "source": [
        "Q17. Sums\n"
      ],
      "metadata": {
        "id": "XiDTKxKt_fOo"
      }
    },
    {
      "cell_type": "code",
      "source": [
        "import numpy as np\n",
        "\n",
        "x = np.array([[1,2],[3,4]])\n",
        "\n",
        "# (a) sum of all elements\n",
        "print(np.sum(x))         # 10\n",
        "\n",
        "# (b) sum of each column\n",
        "print(np.sum(x, axis=0)) # [4 6]\n",
        "\n",
        "# (c) sum of each row\n",
        "print(np.sum(x, axis=1)) # [3 7]"
      ],
      "metadata": {
        "colab": {
          "base_uri": "https://localhost:8080/"
        },
        "id": "7KnPWjMY_a9z",
        "outputId": "fb24679e-e6ba-4020-f45b-098b97b980de"
      },
      "execution_count": null,
      "outputs": [
        {
          "output_type": "stream",
          "name": "stdout",
          "text": [
            "10\n",
            "[4 6]\n",
            "[3 7]\n"
          ]
        }
      ]
    }
  ]
}